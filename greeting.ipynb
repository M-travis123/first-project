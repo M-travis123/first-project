{
 "cells": [
  {
   "cell_type": "code",
   "execution_count": 1,
   "metadata": {},
   "outputs": [
    {
     "name": "stdout",
     "output_type": "stream",
     "text": [
      "Hello, Monica! Welcome to my simple Python project.\n"
     ]
    }
   ],
   "source": [
    "# greeting.ipynb\n",
    "\n",
    "def greet(name):\n",
    "    message = f\"Hello, {name}! Welcome to my simple Python project.\"\n",
    "    print(message)\n",
    "\n",
    "if __name__ == \"__main__\":\n",
    "    user_name = input(\"Enter your name: \")\n",
    "    greet(user_name)\n"
   ]
  }
 ],
 "metadata": {
  "kernelspec": {
   "display_name": "Python 3",
   "language": "python",
   "name": "python3"
  },
  "language_info": {
   "codemirror_mode": {
    "name": "ipython",
    "version": 3
   },
   "file_extension": ".py",
   "mimetype": "text/x-python",
   "name": "python",
   "nbconvert_exporter": "python",
   "pygments_lexer": "ipython3",
   "version": "3.10.9"
  }
 },
 "nbformat": 4,
 "nbformat_minor": 2
}
